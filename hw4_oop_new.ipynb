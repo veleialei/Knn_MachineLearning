{
 "cells": [
  {
   "cell_type": "code",
   "execution_count": 29,
   "metadata": {
    "collapsed": true
   },
   "outputs": [],
   "source": [
    "from scipy.io import arff\n",
    "import pandas as pd\n",
    "import numpy as np\n",
    "import os\n",
    "import operator\n",
    "from classifier import classifier"
   ]
  },
  {
   "cell_type": "code",
   "execution_count": 36,
   "metadata": {
    "collapsed": true
   },
   "outputs": [],
   "source": [
    "class knn(classifier):\n",
    "    def __init__(self, train_X, train_Y, test_X, test_Y):\n",
    "        self.train_X = train_X\n",
    "        self.train_Y = train_Y\n",
    "        self.test_X = test_X\n",
    "        self.test_Y = test_Y  \n",
    "        self.hypothesis = None\n",
    "        self.kn = 3\n",
    "    \n",
    "    def fit(self):\n",
    "        fit(self.kn)\n",
    "    \n",
    "    def fit(self, kn):\n",
    "        self.hypothesis = []\n",
    "        self.kn = kn\n",
    "        l_test = len(self.test_X)\n",
    "        for i in range(l_test):\n",
    "            kNears = self.getKNearest(self.test_X[i])\n",
    "            result = self.getLabel(kNears)\n",
    "            self.hypothesis.append(result)        \n",
    "        return self.hypothesis\n",
    "\n",
    "    def predict(self, pred_X):\n",
    "        l_test = len(pred_X)\n",
    "        predict_Y = []\n",
    "        for i in range(l_test):\n",
    "            kNears = self.getKNearest(pred_X[i])\n",
    "            result = self.getLabel(kNears)\n",
    "            predict_Y.append(result)        \n",
    "        return predict_Y      \n",
    "    \n",
    "    def getAccuracy(self):\n",
    "        correct = 0\n",
    "        length = len(self.test_X)\n",
    "        for i in range(length):\n",
    "            if self.test_Y[i] == self.hypothesis[i]:\n",
    "                correct += 1\n",
    "        return (correct/float(length))\n",
    "    \n",
    "    def getDist(self, x1, x2):\n",
    "        a = np.power((x1 - x2), 2)\n",
    "        s = np.sum(a)\n",
    "        return np.sqrt(s)\n",
    "    \n",
    "    def getKNearest(self, test_x):\n",
    "        dists = []\n",
    "        for i in range(len(self.train_X)):\n",
    "            dist = self.getDist(test_x, self.train_X[i])\n",
    "            dists.append((self.train_Y[i], dist))\n",
    "        dists.sort(key=operator.itemgetter(1))\n",
    "        neighbors = []\n",
    "        for i in range(self.kn):\n",
    "            neighbors.append(dists[i][0])\n",
    "        return neighbors\n",
    "\n",
    "    def getLabel(self, neighbors):\n",
    "        labels = {}\n",
    "        for i in range(len(neighbors)):\n",
    "            label = neighbors[i]\n",
    "            if label in labels:\n",
    "                labels[label] += 1\n",
    "            else:\n",
    "                labels[label] = 1\n",
    "        sortedLabels = sorted(labels.items(), key=operator.itemgetter(1), reverse=True)\n",
    "        return sortedLabels[0][0]"
   ]
  },
  {
   "cell_type": "code",
   "execution_count": 37,
   "metadata": {},
   "outputs": [
    {
     "name": "stdout",
     "output_type": "stream",
     "text": [
      "2 : 0.8745387453874539\n",
      "3 : 0.8856088560885609\n",
      "4 : 0.8929889298892989\n",
      "5 : 0.8892988929889298\n",
      "6 : 0.8892988929889298\n",
      "7 : 0.8929889298892989\n",
      "8 : 0.8892988929889298\n",
      "9 : 0.8966789667896679\n",
      "10 : 0.8966789667896679\n",
      "11 : 0.8929889298892989\n",
      "12 : 0.8892988929889298\n"
     ]
    }
   ],
   "source": [
    "# Function for converting arff list to csv list\n",
    "def toCsv(content):\n",
    "    data = False\n",
    "    header = \"\"\n",
    "    newContent = []\n",
    "    for line in content:\n",
    "        if not data:\n",
    "            if \"@attribute\" in line:\n",
    "                attri = line.split()\n",
    "                columnName = attri[attri.index(\"@attribute\")+1]\n",
    "                header = header + columnName + \",\"\n",
    "            elif \"@data\" in line:\n",
    "                data = True\n",
    "                header = header[:-1]\n",
    "                header += '\\n'\n",
    "                newContent.append(header)\n",
    "        else:\n",
    "            newContent.append(line)\n",
    "    return newContent\n",
    "\n",
    "file = 'PhishingData.arff'\n",
    "newFile = ''\n",
    "with open(file , \"r\") as inFile:\n",
    "    content = inFile.readlines()\n",
    "    name,ext = os.path.splitext(inFile.name)\n",
    "    new = toCsv(content)\n",
    "    newFile = name + \".csv\"\n",
    "    with open(newFile, \"w\") as outFile:\n",
    "        outFile.writelines(new)\n",
    "        \n",
    "df = pd.read_csv(newFile)\n",
    "\n",
    "X = df.iloc[:,:-1]\n",
    "Y = df.iloc[:,-1]\n",
    "l = round(len(X)*0.8)\n",
    "train_X = np.array(X[:l])\n",
    "train_Y = np.array(Y[:l])\n",
    "test_X = np.array(X[l:])\n",
    "test_Y = np.array(Y[l:])\n",
    "\n",
    "oop = knn(train_X, train_Y, test_X, test_Y)\n",
    "for i in range(2,13):\n",
    "    a = oop.fit(i)\n",
    "    b = oop.getAccuracy()\n",
    "    print(i, \":\", b) "
   ]
  },
  {
   "cell_type": "code",
   "execution_count": null,
   "metadata": {
    "collapsed": true
   },
   "outputs": [],
   "source": []
  }
 ],
 "metadata": {
  "kernelspec": {
   "display_name": "Python 3",
   "language": "python",
   "name": "python3"
  },
  "language_info": {
   "codemirror_mode": {
    "name": "ipython",
    "version": 3
   },
   "file_extension": ".py",
   "mimetype": "text/x-python",
   "name": "python",
   "nbconvert_exporter": "python",
   "pygments_lexer": "ipython3",
   "version": "3.6.3"
  }
 },
 "nbformat": 4,
 "nbformat_minor": 2
}
